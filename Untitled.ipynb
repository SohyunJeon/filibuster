{
 "cells": [
  {
   "cell_type": "code",
   "execution_count": 2,
   "metadata": {
    "collapsed": true
   },
   "outputs": [],
   "source": [
    "import PyPDF2"
   ]
  },
  {
   "cell_type": "code",
   "execution_count": 3,
   "metadata": {
    "collapsed": false
   },
   "outputs": [
    {
     "name": "stderr",
     "output_type": "stream",
     "text": [
      "PdfReadWarning: Xref table not zero-indexed. ID numbers for objects will not be corrected. [pdf.py:1707]\n"
     ]
    }
   ],
   "source": [
    "pdfFileObj = open('data/minutes.PDF', 'rb')\n",
    "pdfReader = PyPDF2.PdfFileReader(pdfFileObj)"
   ]
  },
  {
   "cell_type": "code",
   "execution_count": 4,
   "metadata": {
    "collapsed": false
   },
   "outputs": [
    {
     "data": {
      "text/plain": [
       "1695"
      ]
     },
     "execution_count": 4,
     "metadata": {},
     "output_type": "execute_result"
    }
   ],
   "source": [
    "pdfReader.numPages"
   ]
  },
  {
   "cell_type": "code",
   "execution_count": 5,
   "metadata": {
    "collapsed": false
   },
   "outputs": [
    {
     "name": "stdout",
     "output_type": "stream",
     "text": [
      "hello\n"
     ]
    }
   ],
   "source": [
    "pageObj = pdfReader.getPage(6)\n",
    "corrupted_str = pageObj.extractText()"
   ]
  },
  {
   "cell_type": "code",
   "execution_count": 11,
   "metadata": {
    "collapsed": false
   },
   "outputs": [
    {
     "data": {
      "text/plain": [
       "':r:r\\n`æ…EZy\\n\\n`ÑpÉkn…IuE…bpÑ…Åua^–\\niånŽui\\nuñ—±[ågŽZÍ\\nt½uE\\n—Vua^–\\nzŒjáYí\\nuuu)ha[ZYíl1n®nŽ~ÉfI\\nYñvé…M\\nuu`ÑeiZÍ\\n…E`†g½ur\\nua`†t½ua\\na±\\ns½\\n…M\\nuu`†[æs2…I\\n…¹j‡uE\\n^Ł\\\\˛ZyZpur`µ\\ncý…Ikn…IuE…bpÑ…ÅZé\\niånŽui[ågŽZÍ\\nt½uE\\ntñ…ÅzŒjá^–u1\\n[éZ]fI\\n\\n[Z—y^“|E\\\\˛gi\\n…M\\nuu`†{Is2uE\\niévévéuE\\nnŽ~ÉfI\\nZy\\nZpur`µ`Ñ\\nnµ_ñgŽ`æuE\\ns½\\nc˛gaha\\n[Z\\neÙZé\\n`íu>s½Zí…I—IaÆu1\\n[éZ]fIsîu™s³uas½\\n`í…IYýzıu1\\n…MuuZycý…Ij±uîue\\n[yu-\\ni)fMuaZ]`µt-\\neÙ—IaÆs½\\n…1t†…Iu}f¹gi\\nw¾…E\\\\˛\\ntñ…Iv]nŽ[ya±\\nYíwµuuZy\\nuakmkqZé\\nZí`†\\n{Ivruîue\\n…þn®s½uus¡\\nuEu™\\\\Å\\nZéa±…I\\nkmkqua`ÑeiZÍ\\n…E`†uîu1…EoUZÍ\\nuas½nµ_ñgŽ`æs½\\n\\ntˇZpu1t†[Y…EpÍ\\nZpu)fIuup¢`µ`Ñ\\n[åeés½a±…E^–a±\\n\\ns7ZÍuu`†n®~Éur\\nu-\\niévévéuEuE\\nl1n®nŽ~Éur`µ\\ni!oykutñ\\nuE[Z\\n[ZYíl1n®nŽ~Éei`†\\ngi\\nb=ha\\ni!ue\\nZé\\nv]nŽ[y[ågŽZÍYýzı[yu1\\n{†YífIkmsÙ…a[!i)t½u1\\ng¹bÑ\\nuEa±Yí\\ni!s´uaZ“p¢`µ\\naAkus¡iévé`æu-\\n[Z—yuEu™uE\\nw®[y\\n–u\\n[É~±…V`µ`Ñ\\n[ågŽZÍ\\njå—yuE^“|E\\\\˛\\nt-\\nuaeÝ…vtñbÑs½\\na±\\nz–nŽYís1`µeiZÍ\\n…E`†Zpu1`ÑpÉ…IjubÉgª`µ\\n…¹j‡Zé\\nj‡gMu1\\n…EZÍ\\n_1\\nuñu)fIiévévéuE\\ngi•ù[!…I\\nuE`†\\nsÚnŽuEvís±…I\\npÙ•ýu1ha|Eh¨…MZpur\\ng»u-kqbÑ\\\\Å\\n[ZYíuE\\nZíu1\\nh¨…Ehas¡c¨Zy\\neiZÍ\\n…E`†ZÍiéZég½ríbÑu1\\ng»ua…EpÚ\\nuí–Ya±iìZÍpãp¢`µ`Ñ\\niì`†Zpua`æsÝ…IuiuaZÍ\\nn®pÊs½\\nví…E`†uiur`µ\\n[åeÙ^–\\n[åaÆs5`í…Iié[ZuE\\nját½ua\\n[åeÙ…I\\niìu9u1\\nu–h¨…up¢`µ\\nh)ZéZ]uE\\ni%\\ns1`Æ\\na²uŽpÉuõuE\\ni%a±\\ns1`µZÍuñuEuasi\\\\˛a±\\ns1`Æ`µ\\n\\nuusµaE\\nnŽZag¹ua\\nYí\\na±\\ns7p¢`µ`Ñ\\na±\\n`Ñs~…I\\nZÍiéZ]gŽbÑua\\n…U\\\\Ån®va…EZÍ\\nuup¢`µ`Ñ\\n[åeÙ…I\\nZpbÑu1…E^–…E^–\\n…aZš…a\\n^–Yí\\n[åeôZy\\nuaj‡ua[ZiébÑs½Zy\\n…1t†…EZÍ\\ng¶\\\\˛tñ…IpÊu)fI\\n`æ…EZy\\nnŽtŒ\\nuua±fJ\\n…E`†[åZpua[Z—yYí…asisÚ…Mue\\nZpur`µ\\n[åeÝa]\\ntšgŽ`†[åsÚ…Mu1\\nfI\\nh¨…EZÍ\\nuup¢\\ns½\\nZez½\\nj‡s5pÙuEYíuusµZÍ\\ni)fM[åj‡s5pÙuE`†\\nuaj‡u}z¡s½\\n`í…I…E^–…E^–uE\\nu}[Ys½\\n`í…Is1`µsµp¢`µ`Ñ\\n~]uu\\nZÍiébÑua\\nuusµZÍ\\nuau}gŽs½…U\\\\ÅZ±pÍnµ_ñgŽ`æuE\\njátñt½a±\\n…U\\\\Åz%sÙ…EpÉha\\ng½ríbÉgšZpz–eé`í\\n[Z—ys½`†\\njátñt½—yuE\\nj‡s5oy\\ntñYís½bÍ\\n…EbÍ\\ns7ZÍuusµp¢\\n`µ`Ñ\\n[åe–\\n…I\\n^¡tŒbÑs½\\n`í…I\\\\˛jåuîue\\nZâkmYí…1t†…EZÍ\\ncý…Iuaj‡Zé…a\\n\\na±sÙeÙhruEuEt½\\ngi\\n…avéoUZÍ\\nsÝZíj‡u)fI\\nnµ_ñgŽ`æua\\nsÝZ±…a\\n^“|E\\\\˛z–gŽgin®uq\\n…up¢`µ`Ñg¹\\nnŽuajq\\nZé…I\\nkmkqbÑa±\\nsÙeÙuEt½bÑ\\\\Å\\nj‡u1^¡véoUp¢`µ`Ñ\\n`Ñs~…I\\nj‡s5bÑu1\\nj¾…V…M\\nZpu-j¾…V…EZÍ\\ncýZ]…asi\\nkmkqu-\\n…EZÍ\\na²oyv]…Zs½\\n`í`†\\n_iuE…EZÍeiZÍ\\n…E`†Zé\\nuusµZÍtñt½—y\\npÑZé\\nurj‡v]nŽz–\\nbÞu1\\n…ateuEsÙeÙnŽf-bÑu1\\n—Bue…EZÍ\\nuu`†s½\\nuusµp¢`µ`Ñ\\n[ZiébÑuE\\ns5uñZénÊhru1\\n`ájáfI\\n…EZÍuu`†j‡ur\\n[åeô\\\\˛\\nc9i%s½\\nuaj‡Zé\\nnŽpÑZíZ±gi\\n—Bue…EZÍ\\n`Ñs~…I\\nnŽf-bÑ\\ns¡c‚bÑuas¡c¨Zy…M\\nZpueYí\\n[ågŽZÍ[åZpu1\\ng¶u1uu`†uîuõ…Iu-\\ni!s´ueYís½\\n`í…a\\npÙa±uu`†_iuEYí\\n…1t†…up¢`µ`Ñ\\n[åeÙ…I\\nuus¡`í\\n^7uqs³ua\\nZé\\n…I\\ng½ríu1véoUZÍcý[åeÙ…I\\n_iuEbÑua\\nuaj‡uEw±…vu1\\ng¶`†Yíu™~]Yí\\n…up¢`µ`Ñ\\nsÙ\\\\˛Z±pÍkqbÑua\\n`ÑaÆuE…EpÉ`†\\nZpz–eé\\n[ZiéuEs5uñZé\\nnÊhru1\\ntñ…I\\ngig¶\\\\˛tñ…I\\n[åZpu1\\n`†\\nnŽeyua_ñYíuuZ“p¢`µ\\n[ågŽZÍ\\n[åeÙ\\\\˛tñ…a\\nuaj‡ua…1t†…E\\n]ˆuus¡si\\n…I`Ñha\\nuaj‡uas1`µ…E\\n[åeÙ…I\\ngi\\nh¨…I`Ñha_ñ[Ya±uaj‡s½\\ns7u1Zpur\\n[åeÝa]`í…Iié[Zu-\\nuaiå[åeÙ…I\\nZé\\nu1\\nu–ZÍ\\nuup¢`µ`Ñ\\nZésÝ[Zt½ua\\nua\\nvauŽ\\ns7u)ha\\nZÍ\\n…E`†Zpu1g¶u1s³`†ZàueYí\\nZésÝs1i!eÝ\\n[y…Iua\\n'"
      ]
     },
     "execution_count": 11,
     "metadata": {},
     "output_type": "execute_result"
    }
   ],
   "source": [
    "corrupted_str"
   ]
  },
  {
   "cell_type": "code",
   "execution_count": 10,
   "metadata": {
    "collapsed": false
   },
   "outputs": [
    {
     "ename": "UnicodeDecodeError",
     "evalue": "'ascii' codec can't decode byte 0xc3 in position 6: ordinal not in range(128)",
     "output_type": "error",
     "traceback": [
      "\u001b[0;31m---------------------------------------------------------------------------\u001b[0m",
      "\u001b[0;31mUnicodeDecodeError\u001b[0m                        Traceback (most recent call last)",
      "\u001b[0;32m<ipython-input-10-6d4e49096163>\u001b[0m in \u001b[0;36m<module>\u001b[0;34m()\u001b[0m\n\u001b[0;32m----> 1\u001b[0;31m \u001b[0mcorrupted_str\u001b[0m\u001b[0;34m.\u001b[0m\u001b[0mencode\u001b[0m\u001b[0;34m(\u001b[0m\u001b[0;34m'utf-8'\u001b[0m\u001b[0;34m)\u001b[0m\u001b[0;34m.\u001b[0m\u001b[0mdecode\u001b[0m\u001b[0;34m(\u001b[0m\u001b[0;34m'ascii'\u001b[0m\u001b[0;34m)\u001b[0m\u001b[0;34m\u001b[0m\u001b[0m\n\u001b[0m",
      "\u001b[0;31mUnicodeDecodeError\u001b[0m: 'ascii' codec can't decode byte 0xc3 in position 6: ordinal not in range(128)"
     ]
    }
   ],
   "source": [
    "corrupted_str.encode('utf-8').decode('ascii')"
   ]
  },
  {
   "cell_type": "code",
   "execution_count": 36,
   "metadata": {
    "collapsed": true
   },
   "outputs": [],
   "source": [
    "s = '한글'"
   ]
  },
  {
   "cell_type": "code",
   "execution_count": 39,
   "metadata": {
    "collapsed": false
   },
   "outputs": [
    {
     "data": {
      "text/plain": [
       "'한글'"
      ]
     },
     "execution_count": 39,
     "metadata": {},
     "output_type": "execute_result"
    }
   ],
   "source": [
    "s.encode('utf-8').decode('utf-8')"
   ]
  },
  {
   "cell_type": "code",
   "execution_count": null,
   "metadata": {
    "collapsed": true
   },
   "outputs": [],
   "source": []
  }
 ],
 "metadata": {
  "kernelspec": {
   "display_name": "Filibuster",
   "language": "python",
   "name": "filibuster"
  },
  "language_info": {
   "codemirror_mode": {
    "name": "ipython",
    "version": 3
   },
   "file_extension": ".py",
   "mimetype": "text/x-python",
   "name": "python",
   "nbconvert_exporter": "python",
   "pygments_lexer": "ipython3",
   "version": "3.5.1"
  }
 },
 "nbformat": 4,
 "nbformat_minor": 0
}
