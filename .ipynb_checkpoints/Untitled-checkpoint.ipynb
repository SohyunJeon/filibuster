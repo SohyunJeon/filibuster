{
 "cells": [
  {
   "cell_type": "code",
   "execution_count": 1,
   "metadata": {
    "collapsed": true
   },
   "outputs": [],
   "source": [
    "import PyPDF2"
   ]
  },
  {
   "cell_type": "code",
   "execution_count": 29,
   "metadata": {
    "collapsed": false
   },
   "outputs": [],
   "source": [
    "pdfFileObj = open('data/Think Bayes.pdf', 'rb')\n",
    "pdfReader = PyPDF2.PdfFileReader(pdfFileObj)"
   ]
  },
  {
   "cell_type": "code",
   "execution_count": 30,
   "metadata": {
    "collapsed": false
   },
   "outputs": [
    {
     "data": {
      "text/plain": [
       "209"
      ]
     },
     "execution_count": 30,
     "metadata": {},
     "output_type": "execute_result"
    }
   ],
   "source": [
    "pdfReader.numPages"
   ]
  },
  {
   "cell_type": "code",
   "execution_count": 31,
   "metadata": {
    "collapsed": false
   },
   "outputs": [],
   "source": [
    "pageObj = pdfReader.getPage(6)\n",
    "corrupted_str = pageObj.extractText()"
   ]
  },
  {
   "cell_type": "code",
   "execution_count": 32,
   "metadata": {
    "collapsed": false
   },
   "outputs": [
    {
     "data": {
      "text/plain": [
       "'Exercises                                                                                                                            74\\n8.Observer Bias. . . . . . . . . . . . . . . . . . . . . . . . . . . . . . . . . . . . . . . . . . . . . . . . . . . . . . . . . . . . . .  77\\nThe Red Line problem                                                                                                     77\\nThe model                                                                                                                         77\\nWait times                                                                                                                         79\\nPredicting wait times                                                                                                       82\\nEstimating the arrival rate                                                                                              84\\nIncorporating uncertainty                                                                                              86\\nDecision analysis                                                                                                              87\\nDiscussion                                                                                                                         90\\nExercises                                                                                                                            91\\n9.Two Dimensions. . . . . . . . . . . . . . . . . . . . . . . . . . . . . . . . . . . . . . . . . . . . . . . . . . . . . . . . . . . .  93\\nPaintball                                                                                                                             93\\nThe suite                                                                                                                            93\\nTrigonometry                                                                                                                    95\\nLikelihood                                                                                                                         96\\nJoint distributions                                                                                                            97\\nConditional distributions                                                                                               98\\nCredible intervals                                                                                                             99\\nDiscussion                                                                                                                       102\\nExercises                                                                                                                          103\\n10.Approximate Bayesian Computation. . . . . . . . . . . . . . . . . . . . . . . . . . . . . . . . . . . . . . . . .  105\\nThe Variability Hypothesis                                                                                           105\\nMean and standard deviation                                                                                      106\\nUpdate                                                                                                                             108\\nThe posterior distribution of CV                                                                                 108\\nUnderflow                                                                                                                       109\\nLog-likelihood                                                                                                                111\\nA little optimization                                                                                                      111\\nABC                                                                                                                                  113\\nRobust estimation                                                                                                          114\\nWho is more variable?                                                                                                   116\\nDiscussion                                                                                                                       118\\nExercises                                                                                                                          119\\n11.Hypothesis Testing. . . . . . . . . . . . . . . . . . . . . . . . . . . . . . . . . . . . . . . . . . . . . . . . . . . . . . . .  121\\nBack to the Euro problem                                                                                             121\\nMaking a fair comparison                                                                                             122\\nThe triangle prior                                                                                                           123\\nTable of Contents | v\\nwww.it-ebooks.info'"
      ]
     },
     "execution_count": 32,
     "metadata": {},
     "output_type": "execute_result"
    }
   ],
   "source": [
    "corrupted_str"
   ]
  },
  {
   "cell_type": "code",
   "execution_count": 34,
   "metadata": {
    "collapsed": true
   },
   "outputs": [],
   "source": [
    "s = b'unicode'"
   ]
  },
  {
   "cell_type": "code",
   "execution_count": null,
   "metadata": {
    "collapsed": true
   },
   "outputs": [],
   "source": []
  }
 ],
 "metadata": {
  "kernelspec": {
   "display_name": "Filibuster",
   "language": "python",
   "name": "filibuster"
  },
  "language_info": {
   "codemirror_mode": {
    "name": "ipython",
    "version": 3
   },
   "file_extension": ".py",
   "mimetype": "text/x-python",
   "name": "python",
   "nbconvert_exporter": "python",
   "pygments_lexer": "ipython3",
   "version": "3.5.1"
  }
 },
 "nbformat": 4,
 "nbformat_minor": 0
}
